{
 "cells": [
  {
   "cell_type": "markdown",
   "id": "1840a92a",
   "metadata": {},
   "source": [
    "Taller 2 Curso: Estadística y Análisis Exploratorio\n",
    "\n",
    "* Docente: Javier Lozano\n",
    "* Estudiante: Juan Pablo Mazo Quintero y Danilo Rodriguez Arango \n",
    "* Tema: Estimaciones "
   ]
  },
  {
   "cell_type": "markdown",
   "id": "ca4d8507",
   "metadata": {},
   "source": [
    "La base de datos con la que le corresponde trabajar, se obtiene como una muestra\n",
    "aleatoria que corresponde a corresponde a los resultados obtenidos por los jóvenes de\n",
    "todo el país en las pruebas Saber 11, del año 2022. La información aparece agregada\n",
    "por Colegio y solo abarca los colegios de Antioquia. Dicha base contiene las variables:\n",
    "NATURALEZA (Colegio Oficial o No-Oficial), JORNADA (Asociado a los diferentes\n",
    "tipos de jornada de estudio), PROMLECT (Promedio obtenido por el colegio en Lectura\n",
    "Crítica) y PROMMATE (Promedio obtenido por el colegio en Matemáticas).\n",
    "\n",
    "\n"
   ]
  },
  {
   "cell_type": "markdown",
   "id": "c84344cd",
   "metadata": {},
   "source": [
    "1. Construir en Python un IC para al 95 % de confianza necesario para responder:\n",
    "¿Puede afirmarse que el resultado medio obtenido por los colegios en Lectura es\n",
    "superior a 65 puntos? No asuma normalidad, justifique su respuesta."
   ]
  },
  {
   "cell_type": "code",
   "execution_count": 1,
   "id": "88f13bb4",
   "metadata": {},
   "outputs": [],
   "source": [
    "import pandas as pd\n",
    "import numpy as np\n",
    "import scipy.stats as stats"
   ]
  },
  {
   "cell_type": "code",
   "execution_count": 7,
   "id": "700f5b6e",
   "metadata": {},
   "outputs": [
    {
     "name": "stdout",
     "output_type": "stream",
     "text": [
      "<class 'pandas.core.frame.DataFrame'>\n",
      "RangeIndex: 1807 entries, 0 to 1806\n",
      "Data columns (total 4 columns):\n",
      " #   Column      Non-Null Count  Dtype \n",
      "---  ------      --------------  ----- \n",
      " 0   NATURALEZA  1807 non-null   object\n",
      " 1   JORNADA     1807 non-null   object\n",
      " 2   PROMLECT    1807 non-null   int64 \n",
      " 3   PROMMATE    1807 non-null   int64 \n",
      "dtypes: int64(2), object(2)\n",
      "memory usage: 56.6+ KB\n"
     ]
    }
   ],
   "source": [
    "data = pd.read_csv('DatosTrabajo2EAE20242.txt')\n",
    "data.info()"
   ]
  },
  {
   "cell_type": "code",
   "execution_count": 23,
   "id": "aa149eaf",
   "metadata": {},
   "outputs": [
    {
     "data": {
      "text/html": [
       "<div>\n",
       "<style scoped>\n",
       "    .dataframe tbody tr th:only-of-type {\n",
       "        vertical-align: middle;\n",
       "    }\n",
       "\n",
       "    .dataframe tbody tr th {\n",
       "        vertical-align: top;\n",
       "    }\n",
       "\n",
       "    .dataframe thead th {\n",
       "        text-align: right;\n",
       "    }\n",
       "</style>\n",
       "<table border=\"1\" class=\"dataframe\">\n",
       "  <thead>\n",
       "    <tr style=\"text-align: right;\">\n",
       "      <th></th>\n",
       "      <th>PROMLECT</th>\n",
       "      <th>PROMMATE</th>\n",
       "    </tr>\n",
       "  </thead>\n",
       "  <tbody>\n",
       "    <tr>\n",
       "      <th>count</th>\n",
       "      <td>1807.000000</td>\n",
       "      <td>1807.000000</td>\n",
       "    </tr>\n",
       "    <tr>\n",
       "      <th>mean</th>\n",
       "      <td>50.321527</td>\n",
       "      <td>47.105147</td>\n",
       "    </tr>\n",
       "    <tr>\n",
       "      <th>std</th>\n",
       "      <td>7.028032</td>\n",
       "      <td>7.897110</td>\n",
       "    </tr>\n",
       "    <tr>\n",
       "      <th>min</th>\n",
       "      <td>0.000000</td>\n",
       "      <td>18.000000</td>\n",
       "    </tr>\n",
       "    <tr>\n",
       "      <th>25%</th>\n",
       "      <td>45.000000</td>\n",
       "      <td>41.000000</td>\n",
       "    </tr>\n",
       "    <tr>\n",
       "      <th>50%</th>\n",
       "      <td>50.000000</td>\n",
       "      <td>47.000000</td>\n",
       "    </tr>\n",
       "    <tr>\n",
       "      <th>75%</th>\n",
       "      <td>55.000000</td>\n",
       "      <td>52.000000</td>\n",
       "    </tr>\n",
       "    <tr>\n",
       "      <th>max</th>\n",
       "      <td>74.000000</td>\n",
       "      <td>76.000000</td>\n",
       "    </tr>\n",
       "  </tbody>\n",
       "</table>\n",
       "</div>"
      ],
      "text/plain": [
       "          PROMLECT     PROMMATE\n",
       "count  1807.000000  1807.000000\n",
       "mean     50.321527    47.105147\n",
       "std       7.028032     7.897110\n",
       "min       0.000000    18.000000\n",
       "25%      45.000000    41.000000\n",
       "50%      50.000000    47.000000\n",
       "75%      55.000000    52.000000\n",
       "max      74.000000    76.000000"
      ]
     },
     "execution_count": 23,
     "metadata": {},
     "output_type": "execute_result"
    }
   ],
   "source": [
    "data.describe()"
   ]
  },
  {
   "cell_type": "code",
   "execution_count": 22,
   "id": "84c76e39",
   "metadata": {},
   "outputs": [
    {
     "name": "stdout",
     "output_type": "stream",
     "text": [
      "Intervalo de confianza del 95% para PROMLECT: (50.00, 50.65)\n"
     ]
    }
   ],
   "source": [
    "# Parámetros \n",
    "n = len(data)\n",
    "mean_lectura = data['PROMLECT'].mean()\n",
    "std_dev_lectura = data['PROMLECT'].std(ddof=1)\n",
    "\n",
    "# Valor t crítico para un intervalo de confianza del 95%\n",
    "t_critical = stats.t.ppf(1 - 0.025, n -1)\n",
    "\n",
    "# Cálculo del margen de error\n",
    "margin_of_error = t_critical * (std_dev_lectura / np.sqrt(n))\n",
    "\n",
    "# Calcular el intervalo de confianza\n",
    "lower_bound = mean_lectura - margin_of_error\n",
    "upper_bound = mean_lectura + margin_of_error\n",
    "print(f\"Intervalo de confianza del 95% para PROMLECT: ({lower_bound:.2f}, {upper_bound:.2f})\")"
   ]
  },
  {
   "cell_type": "markdown",
   "id": "650af655",
   "metadata": {},
   "source": [
    "Interpretación: Este intervalo de confianza del 95% indica que, si realizáramos muchas muestras aleatorias de colegios en Antioquia y calculáramos el promedio de Lectura para cada una, el 95% de esos promedios de muestra caerían dentro del rango de 50.00 a 50.65 puntos."
   ]
  },
  {
   "cell_type": "markdown",
   "id": "33f4a0e0",
   "metadata": {},
   "source": [
    "2. ¿Se puede afirmar que el resultado medio obtenido por los colegios en Matemáticas\n",
    "es mayor en los Privados que en los Públicos? Construir en Python un IC para al\n",
    "96 % de confianza sin asumir normalidad, justifique su respuesta."
   ]
  },
  {
   "cell_type": "code",
   "execution_count": 24,
   "id": "5a738aee",
   "metadata": {},
   "outputs": [
    {
     "name": "stdout",
     "output_type": "stream",
     "text": [
      "El intervalo de confianza del 96% para la diferencia de medias entre los colegios privados y públicos es: [5.83, 8.09]\n"
     ]
    }
   ],
   "source": [
    "# Parámetros para colegios públicos y privados\n",
    "n_privado = len(data[data['NATURALEZA'] == 'NO OFICIAL'])\n",
    "mean_privado = data[data['NATURALEZA'] == 'NO OFICIAL']['PROMMATE'].mean()\n",
    "std_dev_privado = data[data['NATURALEZA'] == 'NO OFICIAL']['PROMMATE'].std(ddof=1)\n",
    "\n",
    "n_publico = len(data[data['NATURALEZA'] == 'OFICIAL'])\n",
    "mean_publico = data[data['NATURALEZA'] == 'OFICIAL']['PROMMATE'].mean()\n",
    "std_dev_publico = data[data['NATURALEZA'] == 'OFICIAL']['PROMMATE'].std(ddof=1)\n",
    "\n",
    "# Grados de libertad\n",
    "df = ((std_dev_privado**2 / n_privado + std_dev_publico**2 / n_publico)**2) / \\\n",
    "     (((std_dev_privado**2 / n_privado)**2 / (n_privado - 1)) + ((std_dev_publico**2 / n_publico)**2 / (n_publico - 1)))\n",
    "\n",
    "# Valor t crítico para un intervalo de confianza del 96%\n",
    "t_critical = stats.t.ppf(1 - 0.02, df)\n",
    "\n",
    "# Cálculo del margen de error para la diferencia de medias\n",
    "margin_of_error = t_critical * np.sqrt((std_dev_privado**2 / n_privado) + (std_dev_publico**2 / n_publico))\n",
    "\n",
    "# Diferencia de medias\n",
    "difference_of_means = mean_privado - mean_publico\n",
    "\n",
    "# Intervalo de confianza\n",
    "lower_bound = difference_of_means - margin_of_error\n",
    "upper_bound = difference_of_means + margin_of_error\n",
    "\n",
    "# Mostrar resultados\n",
    "print(f\"El intervalo de confianza del 96% para la diferencia de medias entre los colegios privados y públicos es: [{lower_bound:.2f}, {upper_bound:.2f}]\")"
   ]
  },
  {
   "cell_type": "markdown",
   "id": "b01b0155",
   "metadata": {},
   "source": [
    "Interpretación: Con un intervalo de confianza del 96% podemos determinar que hay una diferencia en los promedios de Matemáticas entre los colegios privados y públicos se encuentra entre 5.83 y 8.09 puntos"
   ]
  }
 ],
 "metadata": {
  "kernelspec": {
   "display_name": "udea",
   "language": "python",
   "name": "python3"
  },
  "language_info": {
   "codemirror_mode": {
    "name": "ipython",
    "version": 3
   },
   "file_extension": ".py",
   "mimetype": "text/x-python",
   "name": "python",
   "nbconvert_exporter": "python",
   "pygments_lexer": "ipython3",
   "version": "3.11.13"
  }
 },
 "nbformat": 4,
 "nbformat_minor": 5
}
