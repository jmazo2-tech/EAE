{
 "cells": [
  {
   "cell_type": "code",
   "execution_count": 1,
   "id": "6c3a097a",
   "metadata": {},
   "outputs": [],
   "source": [
    "#### Importar paquetes:\n",
    "import pandas as pd\n",
    "import numpy as np\n",
    "import scipy.stats as spy"
   ]
  },
  {
   "cell_type": "code",
   "execution_count": 2,
   "id": "c78e95c8",
   "metadata": {},
   "outputs": [
    {
     "data": {
      "text/plain": [
       "(90, 10)"
      ]
     },
     "execution_count": 2,
     "metadata": {},
     "output_type": "execute_result"
    }
   ],
   "source": [
    "data = pd.read_excel(\"Base Taller 3 EAE 2025 2.xlsx\")\n",
    "data.shape"
   ]
  },
  {
   "cell_type": "markdown",
   "id": "267d83f6",
   "metadata": {},
   "source": [
    "## Punto 3 del taller:\n",
    "Evaluar mediante una prueba de hipotesis si puede afirmarse que los estudiantes que\n",
    "no trabajan dedican en promedio al menos 2 horas mas a estudiar semanalmente\n",
    "fuera de clase que los estudiantes que tabajan? justifique su respuesta con un nivel\n",
    "de significancia del 3 %."
   ]
  },
  {
   "cell_type": "markdown",
   "id": "a7dbfba7",
   "metadata": {},
   "source": [
    "### Definir variables:\n",
    "1) Xi: horas de estudio que dedica semanalmente a estudiar fuera de clase de los estudiante i que no trabaja\n",
    "2) Yj: horas de estudio que dedica semanalmente a estudiar fuera de clase el estudiante j que trabaja"
   ]
  },
  {
   "cell_type": "markdown",
   "id": "5c1ee009",
   "metadata": {},
   "source": [
    "### Plantear Hipotesis: \n",
    "- Mu_x >= Mu_y + 2\n",
    "- Mu_x - Mu_y >= 2\n",
    "\n",
    "1) Ho: Mu_x - Mu_y >= 2\n",
    "\n",
    "2) Ha: Mu_x - Mu_y < 2"
   ]
  },
  {
   "cell_type": "code",
   "execution_count": 3,
   "id": "4933210c",
   "metadata": {},
   "outputs": [],
   "source": [
    "Xi = data.query(\"TRAB == 'NO'\")[\"HORAS\"]\n",
    "Yj = data.query(\"TRAB == 'SI'\")[\"HORAS\"]"
   ]
  },
  {
   "cell_type": "code",
   "execution_count": 4,
   "id": "8852ffe9",
   "metadata": {},
   "outputs": [],
   "source": [
    "X = data.query(\"TRAB == 'NO'\")[\"HORAS\"].mean()\n",
    "Y = data.query(\"TRAB == 'SI'\")[\"HORAS\"].mean()"
   ]
  },
  {
   "cell_type": "code",
   "execution_count": 5,
   "id": "db3d1c61",
   "metadata": {},
   "outputs": [],
   "source": [
    "Sx = data.query(\"TRAB == 'NO'\")[\"HORAS\"].var()\n",
    "Sy = data.query(\"TRAB == 'SI'\")[\"HORAS\"].var()"
   ]
  },
  {
   "cell_type": "code",
   "execution_count": 6,
   "id": "1e2c1752",
   "metadata": {},
   "outputs": [],
   "source": [
    "nx = len(data.query(\"TRAB == 'NO'\")[\"HORAS\"])\n",
    "ny = len(data.query(\"TRAB == 'SI'\")[\"HORAS\"])"
   ]
  },
  {
   "cell_type": "markdown",
   "id": "aef42b02",
   "metadata": {},
   "source": [
    "#### Evaluar Normalidad"
   ]
  },
  {
   "cell_type": "code",
   "execution_count": 7,
   "id": "2468edc9",
   "metadata": {},
   "outputs": [
    {
     "data": {
      "text/plain": [
       "KstestResult(statistic=np.float64(0.4011183156935982), pvalue=np.float64(4.411954691773877e-09), statistic_location=np.int64(22), statistic_sign=np.int8(-1))"
      ]
     },
     "execution_count": 7,
     "metadata": {},
     "output_type": "execute_result"
    }
   ],
   "source": [
    "### Normalidad para Xi\n",
    "spy.kstest(Xi, 'norm', args=(X, Sx))"
   ]
  },
  {
   "cell_type": "markdown",
   "id": "c1ef88b2",
   "metadata": {},
   "source": [
    "### Se rechaza la Ho nula de que Xi es una variable normal. Pues, el p-value es extremadamente pequeño."
   ]
  },
  {
   "cell_type": "code",
   "execution_count": 8,
   "id": "74a7dd9b",
   "metadata": {},
   "outputs": [
    {
     "data": {
      "text/plain": [
       "KstestResult(statistic=np.float64(0.4139636781422129), pvalue=np.float64(2.5321984038073442e-05), statistic_location=np.int64(45), statistic_sign=np.int8(1))"
      ]
     },
     "execution_count": 8,
     "metadata": {},
     "output_type": "execute_result"
    }
   ],
   "source": [
    "### Normalidad para Yi\n",
    "spy.kstest(Yj, 'norm', args=(Y, Sy))"
   ]
  },
  {
   "cell_type": "markdown",
   "id": "1163190d",
   "metadata": {},
   "source": [
    "### Se rechaza la Ho nula de que Yj es una variable normal. Pues, el p-value es extremadamente pequeño."
   ]
  },
  {
   "cell_type": "markdown",
   "id": "5d79396c",
   "metadata": {},
   "source": [
    "Dado que se en contro no normalidad en las dos variables a comparar, entonces, se va a realizar la prueba de hipotesis, suponindo no normalidad y varianzas poblacionales desconocidas."
   ]
  },
  {
   "cell_type": "code",
   "execution_count": 12,
   "id": "73cd037a",
   "metadata": {},
   "outputs": [
    {
     "data": {
      "text/plain": [
       "np.float64(0.5023130627952186)"
      ]
     },
     "execution_count": 12,
     "metadata": {},
     "output_type": "execute_result"
    }
   ],
   "source": [
    "Zc = ((X-Y)- 2) / np.sqrt(((Sx/nx)+(Sy/ny)))\n",
    "Zc"
   ]
  },
  {
   "cell_type": "markdown",
   "id": "a36dd663",
   "metadata": {},
   "source": [
    "### Evaluar P-value P(Z<Zc)"
   ]
  },
  {
   "cell_type": "code",
   "execution_count": 14,
   "id": "19a80ed9",
   "metadata": {},
   "outputs": [],
   "source": [
    "p_value = spy.norm.cdf(Zc)"
   ]
  },
  {
   "cell_type": "code",
   "execution_count": 20,
   "id": "b2429e0c",
   "metadata": {},
   "outputs": [
    {
     "name": "stdout",
     "output_type": "stream",
     "text": [
      "El valor p es menor o igual que el nivel de significancia: False, Valor P: 0.692276339028579\n"
     ]
    }
   ],
   "source": [
    "print(f\"El valor p es menor o igual que el nivel de significancia: {p_value <= 0.03}, Valor P: {p_value}\")"
   ]
  },
  {
   "cell_type": "markdown",
   "id": "26c06aea",
   "metadata": {},
   "source": [
    "Como el p valor es alto, no se puede rechazar la hipotesis nula de que los estudiantes que\n",
    "no trabajan dedican en promedio al menos 2 horas mas a estudiar semanalmente\n",
    "fuera de clase que los estudiantes que tabajan"
   ]
  },
  {
   "cell_type": "markdown",
   "id": "459bb31d",
   "metadata": {},
   "source": [
    "## Punto 4:\n",
    "¿Se puede afirmar que la proporcion de estudiantes de estratos inferiores a 3 es\n",
    "menor a la proporcion de estudiantes de estrato miınimo 3 en esta universidad?,\n",
    "justifique su respuesta con un nivel de significancia del 6 %"
   ]
  },
  {
   "cell_type": "markdown",
   "id": "99ab0763",
   "metadata": {},
   "source": [
    "### Definir variables:\n",
    "1) Xi: Estudiante i de estrato menor a 3 \n",
    "2) Yi: Estudiante j de estrato mayor o igual a 3"
   ]
  },
  {
   "cell_type": "markdown",
   "id": "6e7e262e",
   "metadata": {},
   "source": [
    "### Plantear Hipotesis: \n",
    "- px - py < 0\n",
    "- Ha : px - py < 0\n",
    "- Ho : px -py >= 0"
   ]
  },
  {
   "cell_type": "markdown",
   "id": "27e46c45",
   "metadata": {},
   "source": [
    "## Calculo de informacion"
   ]
  },
  {
   "cell_type": "code",
   "execution_count": 24,
   "id": "7f495c33",
   "metadata": {},
   "outputs": [],
   "source": [
    "### Obtener proporciones:\n",
    "px = len(data.query(\"ESTRATO < 3\"))/len(data)\n",
    "py = len(data.query(\"ESTRATO >= 3\")) /len(data)\n",
    "\n",
    "n = len(data.query(\"ESTRATO < 3\"))\n",
    "m = len(data.query(\"ESTRATO >= 3\"))"
   ]
  },
  {
   "cell_type": "code",
   "execution_count": null,
   "id": "b0d69088",
   "metadata": {},
   "outputs": [],
   "source": [
    "## Estadistico Z:\n",
    "Z = (px-py-0)/np.sqrt(((px*(1-px))/n)+((py*(1-py))/m))"
   ]
  },
  {
   "cell_type": "markdown",
   "id": "73dc7405",
   "metadata": {},
   "source": [
    "### Evaluar zobs ≤−zα prueba de cola inferior"
   ]
  },
  {
   "cell_type": "code",
   "execution_count": 42,
   "id": "31bcf3bf",
   "metadata": {},
   "outputs": [],
   "source": [
    "Z_valor = spy.norm.ppf(0.06)"
   ]
  },
  {
   "cell_type": "code",
   "execution_count": 46,
   "id": "6c9f62bf",
   "metadata": {},
   "outputs": [
    {
     "name": "stdout",
     "output_type": "stream",
     "text": [
      "Prueba de que zobs ≤−zα: True\n"
     ]
    }
   ],
   "source": [
    "print(f\"Prueba de que zobs ≤−zα: {Z <= -(Z_valor)}\")"
   ]
  },
  {
   "cell_type": "markdown",
   "id": "42633393",
   "metadata": {},
   "source": [
    "### Con un nivel de significancia del 6%, existe evidencia estadísticamente suficiente para afirmar que la proporción de estudiantes de estratos <3 es menor que la proporción de estudiantes de estrato ≥3 en la universidad."
   ]
  }
 ],
 "metadata": {
  "kernelspec": {
   "display_name": "base",
   "language": "python",
   "name": "python3"
  },
  "language_info": {
   "codemirror_mode": {
    "name": "ipython",
    "version": 3
   },
   "file_extension": ".py",
   "mimetype": "text/x-python",
   "name": "python",
   "nbconvert_exporter": "python",
   "pygments_lexer": "ipython3",
   "version": "3.13.5"
  }
 },
 "nbformat": 4,
 "nbformat_minor": 5
}
