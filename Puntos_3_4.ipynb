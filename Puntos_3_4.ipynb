{
 "cells": [
  {
   "cell_type": "markdown",
   "id": "02826f23",
   "metadata": {},
   "source": [
    "## Importar datos"
   ]
  },
  {
   "cell_type": "code",
   "execution_count": 16,
   "id": "b602fec3",
   "metadata": {},
   "outputs": [],
   "source": [
    "import pandas as pd\n",
    "from scipy.stats import f, norm, t\n",
    "import numpy as np"
   ]
  },
  {
   "cell_type": "code",
   "execution_count": 17,
   "id": "9216afd0",
   "metadata": {},
   "outputs": [],
   "source": [
    "datos = pd.read_csv(\"DatosTrabajo2EAE20242.txt\")"
   ]
  },
  {
   "cell_type": "markdown",
   "id": "540d6a0a",
   "metadata": {},
   "source": [
    "#### Punto 3- IC del 93% confianza: \n",
    "Construir en Python un IC para al 93% de confianza necesario para responder:\n",
    "¿Puede afirmarse que la proporci´on de colegios privados es m´ınimo del 50%? No\n",
    "asuma normalidad, justifique su respuesta."
   ]
  },
  {
   "cell_type": "markdown",
   "id": "b201db63",
   "metadata": {},
   "source": [
    "#### Para responder esta pregunta, es necesario obtener al nivel de confianza del 93% los intervalos de confianza para la proporcion poblacional, a partir de los estadisticos muestrales. Para ello se obtiene la proporcion muestral de colegios publicos y privados"
   ]
  },
  {
   "cell_type": "code",
   "execution_count": 18,
   "id": "1bf1b359",
   "metadata": {},
   "outputs": [
    {
     "name": "stdout",
     "output_type": "stream",
     "text": [
      "instituciones públicas: 0.811289429994466\n",
      "instituciones privadas: 0.18871057000553404\n",
      "Tamaño de la muestra: 1807\n"
     ]
    }
   ],
   "source": [
    "### tamaño de la muestra y proporciones\n",
    "n = datos.shape[0]\n",
    "publico, privado =(datos[\"NATURALEZA\"].value_counts().values / n)\n",
    "print(f\"instituciones públicas: {publico}\\n\"\n",
    "      f\"instituciones privadas: {privado}\\n\"\n",
    "      f\"Tamaño de la muestra: {n}\")"
   ]
  },
  {
   "cell_type": "markdown",
   "id": "f9722ada",
   "metadata": {},
   "source": [
    "#### Con los estadisticos muestrales se calculan los valores de la distribucion teorica para construir los intervalos de confianza"
   ]
  },
  {
   "cell_type": "code",
   "execution_count": 19,
   "id": "23488f3f",
   "metadata": {},
   "outputs": [],
   "source": [
    "### Distribucion z-estandar teorica\n",
    "tolerancia = 0.07\n",
    "confianza = 1- (tolerancia/2)\n",
    "valor_dist_teorica = norm.ppf(confianza)"
   ]
  },
  {
   "cell_type": "markdown",
   "id": "42955347",
   "metadata": {},
   "source": [
    "## Hipotesis: Porporcion de colegios privados es minimo 50%\n",
    "Se plantea la hipotesis de que = Publicos >= 50 %\n",
    "para evaluar esto, se puede hallar los intervalos de confianza para la proporcion poblacional y evaluar si el valor minimo del intervalo contiene 0.5"
   ]
  },
  {
   "cell_type": "code",
   "execution_count": 20,
   "id": "a053bbca",
   "metadata": {},
   "outputs": [
    {
     "name": "stdout",
     "output_type": "stream",
     "text": [
      "IC inferior : 0.17203257924160517, IC Superior : 0.2053885607694629\n"
     ]
    }
   ],
   "source": [
    "print(f\"IC inferior : {privado - valor_dist_teorica* np.sqrt((privado * publico / n))}, IC Superior : {privado + valor_dist_teorica* np.sqrt((privado * publico / n))}\")"
   ]
  },
  {
   "cell_type": "markdown",
   "id": "4bedf4a3",
   "metadata": {},
   "source": [
    "#### Respuesta punto 3: Se concluye la proporcion de colegios privados no es minimo 50%, ya que, se estima que la proporcion de colegios privados en la poblacion es de 17.2% a 20.53%"
   ]
  },
  {
   "cell_type": "markdown",
   "id": "66ae3866",
   "metadata": {},
   "source": [
    "#### Punto 4 - IC del 90% confianza.\n",
    "¿Se puede afirmar que el resultado medio obtenido por los colegios en Lectura Cr´ıtica\n",
    "es mayor en los colegios de jornada completa que los que prestan servicio en\n",
    "jornadas diferentes? Construir en Python un IC para al 90% de confianza asumiendo\n",
    "normalidad de las variables involucradas, justifique su respuesta. "
   ]
  },
  {
   "cell_type": "code",
   "execution_count": null,
   "id": "7e24a8bf",
   "metadata": {},
   "outputs": [
    {
     "data": {
      "text/plain": [
       "jornada_p4\n",
       "EXTRAORDINARIA    1112\n",
       "COMPLETA           695\n",
       "Name: count, dtype: int64"
      ]
     },
     "execution_count": 21,
     "metadata": {},
     "output_type": "execute_result"
    }
   ],
   "source": [
    "## Renombrar jornadas por completa y extaraordinarias\n",
    "# Crear nueva columna con jornadas agrupadas\n",
    "datos[\"jornada_p4\"] = datos[\"JORNADA\"].replace({\n",
    "    \"COMPLETA\": \"COMPLETA\",\n",
    "    \"MANANA\": \"EXTRAORDINARIA\",\n",
    "    \"UNICA\": \"EXTRAORDINARIA\",\n",
    "    \"FIN DE SEMANA\": \"EXTRAORDINARIA\",\n",
    "    \"NOCTURNA\": \"EXTRAORDINARIA\",\n",
    "    \"TARDE\": \"EXTRAORDINARIA\"\n",
    "})\n",
    "datos[\"jornada_p4\"].value_counts()"
   ]
  },
  {
   "cell_type": "code",
   "execution_count": null,
   "id": "e66aecbc",
   "metadata": {},
   "outputs": [],
   "source": [
    "### Se extraen los valores muestrales: media, varainza y tamaños de las muestras.\n",
    "media_Completa = datos.query(\"jornada_p4 == 'COMPLETA'\")[\"PROMLECT\"].mean()\n",
    "media_Extra = datos.query(\"jornada_p4 == 'EXTRAORDINARIA'\")[\"PROMLECT\"].mean()\n",
    "var_Completa = datos.query(\"jornada_p4 == 'COMPLETA'\")[\"PROMLECT\"].var()\n",
    "var_Extra = datos.query(\"jornada_p4 == 'EXTRAORDINARIA'\")[\"PROMLECT\"].var()\n",
    "m, n = datos[\"jornada_p4\"].value_counts().values"
   ]
  },
  {
   "cell_type": "markdown",
   "id": "03261409",
   "metadata": {},
   "source": [
    "##### Para validar si hay diferencias en las medias, asuminedo normalidad de las variables y que en este caso solo se sabe la varinza muestral y no poblacional. se debe chequear si las varianzas de las dos poblaciones son iguales, mediante una prueba. una vez se pruebe que son diferentes o iguales, se usará diferente valor para el calculo del estadistico t y calcular los IC poblacionales"
   ]
  },
  {
   "cell_type": "code",
   "execution_count": 41,
   "id": "7285f955",
   "metadata": {},
   "outputs": [
    {
     "name": "stdout",
     "output_type": "stream",
     "text": [
      "IC inferior : 3.327250308514971, IC Superior : 4.351647667142516\n"
     ]
    }
   ],
   "source": [
    "### Revisar si las varianzas poblacionales son iguales o no\n",
    "\n",
    "f_superior = f.ppf((1-0.025), dfn = n-1 , dfd = m-1)\n",
    "f_inferior = f.ppf((0.025), dfn = n-1 , dfd = m-1)\n",
    "\n",
    "\n",
    "(var_Completa**2 / var_Extra**2)*f_superior, (var_Completa**2 / var_Extra**2)*f_inferior \n",
    "\n",
    "print(f\"IC inferior : {(var_Completa**2 / var_Extra**2)*f_inferior}, IC Superior : {(var_Completa**2 / var_Extra**2)*f_superior }\")\n",
    "# Si contiene al 1 son iguales las varianzas. en este caso contien al uno son iguales"
   ]
  },
  {
   "cell_type": "markdown",
   "id": "75643061",
   "metadata": {},
   "source": [
    "### Como los intervalos de confianza no contienen el 1. entonces, las varianzas son diferentes"
   ]
  },
  {
   "cell_type": "markdown",
   "id": "138227f7",
   "metadata": {},
   "source": [
    "Dada las diferencias en cuanto a las varianzas, se el valor de la distribucion teorica t-student con v como parametro"
   ]
  },
  {
   "cell_type": "code",
   "execution_count": 37,
   "id": "dccf704e",
   "metadata": {},
   "outputs": [],
   "source": [
    "nuemrador = ((var_Completa / n)+(var_Extra/m))**2\n",
    "denominador_parte_1 = (var_Completa/n)**2\n",
    "denominador_parte_2 = (var_Extra/m)**2\n",
    "denominador = (denominador_parte_1 / (n-1)) + (denominador_parte_2/(m-1))\n",
    "v = round(nuemrador/denominador)"
   ]
  },
  {
   "cell_type": "code",
   "execution_count": 38,
   "id": "b7604757",
   "metadata": {},
   "outputs": [
    {
     "data": {
      "text/plain": [
       "np.float64(1.2822965849550738)"
      ]
     },
     "execution_count": 38,
     "metadata": {},
     "output_type": "execute_result"
    }
   ],
   "source": [
    "valor_dist_teorica = t.ppf(0.90, v)\n",
    "valor_dist_teorica"
   ]
  },
  {
   "cell_type": "code",
   "execution_count": 44,
   "id": "2d12d0ac",
   "metadata": {},
   "outputs": [
    {
     "name": "stdout",
     "output_type": "stream",
     "text": [
      "IC inferior : -0.5899527522716241, IC Superior : 0.34930527025722863\n"
     ]
    }
   ],
   "source": [
    "diferencia = media_Completa - media_Extra\n",
    "print(f\"IC inferior : {diferencia - valor_dist_teorica*np.sqrt((var_Completa/n)+(var_Extra/m))}, IC Superior : {diferencia + valor_dist_teorica*np.sqrt((var_Completa/n)+(var_Extra/m))}\")"
   ]
  },
  {
   "cell_type": "markdown",
   "id": "7e28c9f9",
   "metadata": {},
   "source": [
    "#### La idea a evaluar es si los colegios con jornada completa tienen mayores niveles de lectura critica que los colegios de jornada extraordinaria. para evaluar esto es necesario que los intervalos sean estrictamente positivos, dada la hipotesis evaluada: \n",
    "#### P_completa - P_extraordinaria = 0\n",
    "#### no obstante el IC calculado, no evidencia esto, y la verdadera diferencia poblacional podria estar entre -0.5899 , y 0.3493"
   ]
  }
 ],
 "metadata": {
  "kernelspec": {
   "display_name": "base",
   "language": "python",
   "name": "python3"
  },
  "language_info": {
   "codemirror_mode": {
    "name": "ipython",
    "version": 3
   },
   "file_extension": ".py",
   "mimetype": "text/x-python",
   "name": "python",
   "nbconvert_exporter": "python",
   "pygments_lexer": "ipython3",
   "version": "3.13.5"
  }
 },
 "nbformat": 4,
 "nbformat_minor": 5
}
